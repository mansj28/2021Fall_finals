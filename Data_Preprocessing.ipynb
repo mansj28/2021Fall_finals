{
 "cells": [
  {
   "cell_type": "code",
   "execution_count": 1,
   "id": "02cc1dee",
   "metadata": {},
   "outputs": [],
   "source": [
    "import pandas as pd\n",
    "import glob\n",
    "import os, zipfile\n",
    "from os import listdir\n",
    "from os.path import isfile, join"
   ]
  },
  {
   "cell_type": "code",
   "execution_count": 2,
   "id": "f57afdcd",
   "metadata": {},
   "outputs": [],
   "source": [
    "path = \"C:\\\\Users\\\\dshru\\\\Desktop\\\\PR Unzip\\\\*\"\n",
    "files = glob.glob( path, recursive=True)"
   ]
  },
  {
   "cell_type": "code",
   "execution_count": 3,
   "id": "379312bc",
   "metadata": {},
   "outputs": [],
   "source": [
    "unique_folders = [file[-7:] for file in files]\n",
    "unique_folders"
   ]
  },
  {
   "cell_type": "code",
   "execution_count": 204,
   "id": "501ec137",
   "metadata": {},
   "outputs": [],
   "source": [
    "# files_to_keep = ['cde_agencies.csv', 'nibrs_age.csv', 'nibrs_arrestee.csv','nibrs_arrestee_weapon.csv', 'nibrs_incident.csv', \n",
    "#                  'nibrs_month.csv', 'nibrs_offense.csv','nibrs_offense_type.csv', 'nibrs_weapon_type.csv']\n"
   ]
  },
  {
   "cell_type": "code",
   "execution_count": 4,
   "id": "8b1ff62b",
   "metadata": {},
   "outputs": [],
   "source": [
    "def create_state_year(folder):\n",
    "    cde_df = pd.read_csv(\"C:\\\\Users\\\\dshru\\\\Desktop\\\\PR Unzip\\\\\"+folder+\"\\cde_agencies.csv\", \n",
    "                         usecols=['agency_id','state_abbr'])\n",
    "\n",
    "    areestee_df = pd.read_csv(\"C:\\\\Users\\\\dshru\\\\Desktop\\\\PR Unzip\\\\\"+folder+\"\\\\nibrs_arrestee.csv\",\n",
    "                             usecols=['arrestee_id','incident_id','sex_code','offense_type_id','arrest_type_id'])\n",
    "    \n",
    "    aresstee_weapon_df = pd.read_csv(\"C:\\\\Users\\\\dshru\\\\Desktop\\\\PR Unzip\\\\\"+folder+\"\\\\nibrs_arrestee_weapon.csv\",\n",
    "                                    usecols=['arrestee_id','nibrs_arrestee_weapon_id','weapon_id'])\n",
    "    \n",
    "    incident_df = pd.read_csv(\"C:\\\\Users\\\\dshru\\\\Desktop\\\\PR Unzip\\\\\"+folder+\"\\\\nibrs_incident.csv\",\n",
    "                             usecols=['nibrs_month_id','incident_id','agency_id'])\n",
    "    \n",
    "    month_df = pd.read_csv(\"C:\\\\Users\\\\dshru\\\\Desktop\\\\PR Unzip\\\\\"+folder+\"\\\\nibrs_month.csv\",\n",
    "                          usecols=['nibrs_month_id','agency_id','month_num','data_year'])\n",
    "    \n",
    "    offense_df = pd.read_csv(\"C:\\\\Users\\\\dshru\\\\Desktop\\\\PR Unzip\\\\\"+folder+\"\\\\nibrs_offense.csv\",\n",
    "                            usecols=['offense_id','incident_id','offense_type_id'])\n",
    "    \n",
    "    offense_type_df = pd.read_csv(\"C:\\\\Users\\\\dshru\\\\Desktop\\\\PR Unzip\\\\\"+folder+\"\\\\nibrs_offense_type.csv\",\n",
    "                                 usecols=['offense_type_id','crime_against'])\n",
    "    \n",
    "    weapon_type_df = pd.read_csv(\"C:\\\\Users\\\\dshru\\\\Desktop\\\\PR Unzip\\\\\"+folder+\"\\\\nibrs_weapon_type.csv\",\n",
    "                                usecols=['weapon_id','weapon_name'])\n",
    "    \n",
    "    \n",
    "    df = pd.merge(incident_df, month_df, left_on='nibrs_month_id', right_on='nibrs_month_id',how ='outer' )\n",
    "    df = pd.merge(df, cde_df, left_on='agency_id_x', right_on='agency_id', how='outer')\n",
    "    df = pd.merge(df, areestee_df, left_on='incident_id', right_on='incident_id', how='outer')\n",
    "    df = pd.merge(df, aresstee_weapon_df, left_on='arrestee_id', right_on='arrestee_id', how ='outer')\n",
    "    df = pd.merge(df, weapon_type_df, left_on='weapon_id',right_on='weapon_id', how ='outer' )\n",
    "    df = pd.merge(df, offense_df,left_on='incident_id', right_on='incident_id', how ='outer')\n",
    "    \n",
    "    df = df[~df['incident_id'].isna()]\n",
    "    \n",
    "    df.to_csv(\"C:\\\\Users\\\\dshru\\\\Desktop\\\\Final_inputfiles\\\\\"+folder+\".csv\")\n",
    "    return df\n",
    "#     return cde_df, age_df, areestee_df, aresstee_weapon_df, incident_df, month_df, offense_df, offense_type_df, weapon_type_df"
   ]
  },
  {
   "cell_type": "code",
   "execution_count": 5,
   "id": "5ed0f99a",
   "metadata": {},
   "outputs": [],
   "source": [
    "def create_state_year_caps(folder):\n",
    "    cde_df = pd.read_csv(\"C:\\\\Users\\\\dshru\\\\Desktop\\\\PR Unzip\\\\\"+folder+\"\\cde_agencies.csv\", \n",
    "                         usecols=['AGENCY_ID','STATE_ABBR'])\n",
    "    \n",
    "    areestee_df = pd.read_csv(\"C:\\\\Users\\\\dshru\\\\Desktop\\\\PR Unzip\\\\\"+folder+\"\\\\nibrs_arrestee.csv\",\n",
    "                             usecols=['arrestee_id'.upper(),'incident_id'.upper(),'sex_code'.upper(),'offense_type_id'.upper()\n",
    "                                      ,'arrest_type_id'.upper()])\n",
    "    \n",
    "    aresstee_weapon_df = pd.read_csv(\"C:\\\\Users\\\\dshru\\\\Desktop\\\\PR Unzip\\\\\"+folder+\"\\\\nibrs_arrestee_weapon.csv\",\n",
    "                                    usecols=['arrestee_id'.upper(),'nibrs_arrestee_weapon_id'.upper(),'weapon_id'.upper()])\n",
    "    \n",
    "    incident_df = pd.read_csv(\"C:\\\\Users\\\\dshru\\\\Desktop\\\\PR Unzip\\\\\"+folder+\"\\\\nibrs_incident.csv\",\n",
    "                             usecols=['nibrs_month_id'.upper(),'incident_id'.upper(),'agency_id'.upper()])\n",
    "    \n",
    "    month_df = pd.read_csv(\"C:\\\\Users\\\\dshru\\\\Desktop\\\\PR Unzip\\\\\"+folder+\"\\\\nibrs_month.csv\",\n",
    "                          usecols=['nibrs_month_id'.upper(),'agency_id'.upper(),'month_num'.upper(),'data_year'.upper()])\n",
    "    \n",
    "    offense_df = pd.read_csv(\"C:\\\\Users\\\\dshru\\\\Desktop\\\\PR Unzip\\\\\"+folder+\"\\\\nibrs_offense.csv\",\n",
    "                            usecols=['offense_id'.upper(),'incident_id'.upper(),'offense_type_id'.upper()])\n",
    "    \n",
    "    offense_type_df = pd.read_csv(\"C:\\\\Users\\\\dshru\\\\Desktop\\\\PR Unzip\\\\\"+folder+\"\\\\nibrs_offense_type.csv\",\n",
    "                                 usecols=['offense_type_id'.upper(),'crime_against'.upper()])\n",
    "    \n",
    "    weapon_type_df = pd.read_csv(\"C:\\\\Users\\\\dshru\\\\Desktop\\\\PR Unzip\\\\\"+folder+\"\\\\nibrs_weapon_type.csv\",\n",
    "                                usecols=['weapon_id'.upper(),'weapon_name'.upper()])\n",
    "    \n",
    "    \n",
    "    df = pd.merge(incident_df, month_df, left_on='nibrs_month_id'.upper(), right_on='nibrs_month_id'.upper(),how ='outer' )\n",
    "    df = pd.merge(df, cde_df, left_on='AGENCY_ID_x', right_on='agency_id'.upper(), how='outer')\n",
    "    df = pd.merge(df, areestee_df, left_on='incident_id'.upper(), right_on='incident_id'.upper(), how='outer')\n",
    "    df = pd.merge(df, aresstee_weapon_df, left_on='arrestee_id'.upper(), right_on='arrestee_id'.upper(), how ='outer')\n",
    "    df = pd.merge(df, weapon_type_df, left_on='weapon_id'.upper(),right_on='weapon_id'.upper(), how ='outer' )\n",
    "    df = pd.merge(df, offense_df,left_on='incident_id'.upper(), right_on='incident_id'.upper(), how ='outer')\n",
    "    \n",
    "    df.columns= df.columns.str.strip().str.lower()\n",
    "    \n",
    "    df = df[~df['incident_id'].isna()]\n",
    "    \n",
    "    df.to_csv(\"C:\\\\Users\\\\dshru\\\\Desktop\\\\Final_inputfiles\\\\\"+folder+\".csv\")\n",
    "    return df\n",
    "#     return cde_df, age_df, areestee_df, aresstee_weapon_df, incident_df, month_df, offense_df, offense_type_df, weapon_type_df"
   ]
  },
  {
   "cell_type": "code",
   "execution_count": 6,
   "id": "a8306e08",
   "metadata": {},
   "outputs": [],
   "source": [
    "# for all states with years between 2017 - 2019\n",
    "for folder in unique_folders:\n",
    "    if folder[-4:] in ['2017','2018','2019']:\n",
    "        print(folder)\n",
    "        create_state_year_caps(folder)"
   ]
  },
  {
   "cell_type": "code",
   "execution_count": 7,
   "id": "c69f72cc",
   "metadata": {},
   "outputs": [],
   "source": [
    "# for all states with years between 2008 - 2016\n",
    "for folder in unique_folders:\n",
    "    if folder[-4:] not in ['2017','2018','2019']:\n",
    "        create_state_year(folder)"
   ]
  },
  {
   "cell_type": "code",
   "execution_count": 8,
   "id": "a43bac34",
   "metadata": {},
   "outputs": [
    {
     "data": {
      "text/plain": [
       "0"
      ]
     },
     "execution_count": 8,
     "metadata": {},
     "output_type": "execute_result"
    }
   ],
   "source": [
    "# append all the years for each of the state for further analysis\n",
    "path = \"C:\\\\Users\\\\dshru\\\\Desktop\\\\Final_inputfiles\\\\*\"\n",
    "files = glob.glob( path, recursive=True)\n",
    "len(files)"
   ]
  },
  {
   "cell_type": "code",
   "execution_count": 9,
   "id": "8d841d81",
   "metadata": {},
   "outputs": [],
   "source": [
    "def append_df(files):\n",
    "    for file in files[0:1]:\n",
    "        df = pd.read_csv(file)\n",
    "    \n",
    "    for file in files[1:]:\n",
    "        new_df = pd.read_csv(file)\n",
    "        df = df.append(new_df)\n",
    "        \n",
    "    return df\n",
    "    "
   ]
  },
  {
   "cell_type": "code",
   "execution_count": 10,
   "id": "483f0a6e",
   "metadata": {},
   "outputs": [],
   "source": [
    "def append_df(files):\n",
    "    for file in files[0:1]:\n",
    "        df1 = pd.read_csv(file, low_memory=False)\n",
    "        print\n",
    "    \n",
    "    for file in files[1:]:\n",
    "        new_df = pd.read_csv(file, low_memory=False)\n",
    "        df1 = df1.append(new_df)\n",
    "        \n",
    "    return df1"
   ]
  },
  {
   "cell_type": "code",
   "execution_count": 12,
   "id": "39262b98",
   "metadata": {},
   "outputs": [],
   "source": [
    "df1 = append_df(files)"
   ]
  },
  {
   "cell_type": "code",
   "execution_count": 13,
   "id": "77ef8e7b",
   "metadata": {},
   "outputs": [],
   "source": [
    "df1.to_csv(\"C:\\\\Users\\\\dshru\\\\Desktop\\\\Final_inputfiles\\\\final.csv\")"
   ]
  },
  {
   "cell_type": "code",
   "execution_count": 14,
   "id": "8ee18645",
   "metadata": {},
   "outputs": [],
   "source": [
    "df1.rename(columns={'agency_id_x':'agency_id', 'offense_type_id_x':'offense_type_id'}, inplace=True)\n",
    "df1.drop(['Unnamed: 0','agency_id','nibrs_month_id','agency_id','arrestee_id','arrest_type_id','offense_type_id','weapon_id',\n",
    "         'nibrs_arrestee_weapon_id','offense_id','agency_id_y','offense_type_id_y'],axis=1, inplace=True)\n",
    "df1 = df1.astype({'incident_id': 'int64','month_num':'int64','data_year':'int64'})\n",
    "df1 = df1.replace(np.nan, '', regex=True)"
   ]
  },
  {
   "cell_type": "code",
   "execution_count": 15,
   "id": "a0c0fc8b",
   "metadata": {},
   "outputs": [],
   "source": [
    "df_crimes = df1.groupby(['state_abbr','data_year'])['incident_id'].count().reset_index()\n",
    "df_crimes.to_csv(\"C:\\\\Users\\\\mansj\\\\OneDrive\\\\Desktop\\\\Final_inputfiles\\\\final_crimes.csv\")"
   ]
  },
  {
   "cell_type": "code",
   "execution_count": 16,
   "id": "7d56df87",
   "metadata": {},
   "outputs": [],
   "source": [
    "df_month_crimes = df1.groupby(['state_abbr','data_year','month_num'])['incident_id'].count().reset_index()\n",
    "df_month_crimes.to_csv(\"C:\\\\Users\\\\mansj\\\\OneDrive\\\\Desktop\\\\Final_inputfiles\\\\final_month_crimes.csv\")"
   ]
  },
  {
   "cell_type": "code",
   "execution_count": null,
   "id": "fcbf5145",
   "metadata": {},
   "outputs": [],
   "source": []
  }
 ],
 "metadata": {
  "kernelspec": {
   "display_name": "Python 3",
   "language": "python",
   "name": "python3"
  },
  "language_info": {
   "codemirror_mode": {
    "name": "ipython",
    "version": 3
   },
   "file_extension": ".py",
   "mimetype": "text/x-python",
   "name": "python",
   "nbconvert_exporter": "python",
   "pygments_lexer": "ipython3",
   "version": "3.8.8"
  }
 },
 "nbformat": 4,
 "nbformat_minor": 5
}
