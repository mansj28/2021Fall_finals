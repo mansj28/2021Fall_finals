{
 "cells": [
  {
   "cell_type": "code",
   "execution_count": 22,
   "id": "9c618f9a",
   "metadata": {},
   "outputs": [],
   "source": [
    "# import required libraries\n",
    "import pandas as pd\n",
    "import glob"
   ]
  },
  {
   "cell_type": "markdown",
   "id": "63fb7e15",
   "metadata": {},
   "source": [
    "#### Downloaded the data for each state population in the United States for years between 2008 - 2019 \n",
    "Link : https://www.kff.org/other/state-indicator/distribution-by-age/?dataView=1&currentTimeframe=0&selectedDistributions=total&sortModel=%7B%22colId%22:%22Location%22,%22sort%22:%22asc%22%7D"
   ]
  },
  {
   "cell_type": "code",
   "execution_count": 3,
   "id": "6618aa61",
   "metadata": {},
   "outputs": [],
   "source": [
    "path = \"C:\\\\Users\\\\mansj\\\\OneDrive\\\\Desktop\\\\Population\\\\*\"\n",
    "files = glob.glob(path, recursive = True)"
   ]
  },
  {
   "cell_type": "code",
   "execution_count": 5,
   "id": "6ce9003b",
   "metadata": {},
   "outputs": [],
   "source": [
    "population_df = pd.DataFrame()"
   ]
  },
  {
   "cell_type": "code",
   "execution_count": 6,
   "id": "d5b9bc86",
   "metadata": {},
   "outputs": [],
   "source": [
    "def get_population_data(file_to_read):\n",
    "    raw_string = r'{}'.format(input_file)\n",
    "    input_df = pd.read_csv(raw_string, skiprows= 2, skipfooter = 11 , error_bad_lines= False, engine='python')\n",
    "    input_df = input_df.rename( columns = {'Location':'State'})\n",
    "    input_df = input_df[['State', 'Total']]\n",
    "    input_df['Year'] = raw_string[43:47]\n",
    "    return input_df"
   ]
  },
  {
   "cell_type": "markdown",
   "id": "58064ce8",
   "metadata": {},
   "source": [
    "#### Appended the population data for each state for every year to create a final dataframe"
   ]
  },
  {
   "cell_type": "code",
   "execution_count": 7,
   "id": "506fce11",
   "metadata": {},
   "outputs": [],
   "source": [
    "for input_file in files:\n",
    "    pop_df = get_population_data(input_file)\n",
    "    population_df = population_df.append(pop_df)\n",
    "    population_df = population_df.sort_values(by=['State', 'Year'])\n",
    "    del pop_df"
   ]
  },
  {
   "cell_type": "code",
   "execution_count": 19,
   "id": "1f5bb7a0",
   "metadata": {},
   "outputs": [
    {
     "data": {
      "text/html": [
       "<div>\n",
       "<style scoped>\n",
       "    .dataframe tbody tr th:only-of-type {\n",
       "        vertical-align: middle;\n",
       "    }\n",
       "\n",
       "    .dataframe tbody tr th {\n",
       "        vertical-align: top;\n",
       "    }\n",
       "\n",
       "    .dataframe thead th {\n",
       "        text-align: right;\n",
       "    }\n",
       "</style>\n",
       "<table border=\"1\" class=\"dataframe\">\n",
       "  <thead>\n",
       "    <tr style=\"text-align: right;\">\n",
       "      <th></th>\n",
       "      <th>State</th>\n",
       "      <th>Total</th>\n",
       "      <th>Year</th>\n",
       "    </tr>\n",
       "  </thead>\n",
       "  <tbody>\n",
       "    <tr>\n",
       "      <th>1</th>\n",
       "      <td>Alabama</td>\n",
       "      <td>4526900.0</td>\n",
       "      <td>2008</td>\n",
       "    </tr>\n",
       "    <tr>\n",
       "      <th>1</th>\n",
       "      <td>Alabama</td>\n",
       "      <td>4569100.0</td>\n",
       "      <td>2009</td>\n",
       "    </tr>\n",
       "    <tr>\n",
       "      <th>1</th>\n",
       "      <td>Alabama</td>\n",
       "      <td>4651400.0</td>\n",
       "      <td>2010</td>\n",
       "    </tr>\n",
       "    <tr>\n",
       "      <th>1</th>\n",
       "      <td>Alabama</td>\n",
       "      <td>4676000.0</td>\n",
       "      <td>2011</td>\n",
       "    </tr>\n",
       "    <tr>\n",
       "      <th>1</th>\n",
       "      <td>Alabama</td>\n",
       "      <td>4696000.0</td>\n",
       "      <td>2012</td>\n",
       "    </tr>\n",
       "  </tbody>\n",
       "</table>\n",
       "</div>"
      ],
      "text/plain": [
       "     State      Total  Year\n",
       "1  Alabama  4526900.0  2008\n",
       "1  Alabama  4569100.0  2009\n",
       "1  Alabama  4651400.0  2010\n",
       "1  Alabama  4676000.0  2011\n",
       "1  Alabama  4696000.0  2012"
      ]
     },
     "execution_count": 19,
     "metadata": {},
     "output_type": "execute_result"
    }
   ],
   "source": [
    "population_df.head()"
   ]
  },
  {
   "cell_type": "markdown",
   "id": "12e1c774",
   "metadata": {},
   "source": [
    "#### Downloaded the state name and state abbreviation data from the below link. Merged the population and state abbreviation data.\n",
    "link : https://worldpopulationreview.com/states/state-abbreviations"
   ]
  },
  {
   "cell_type": "code",
   "execution_count": 21,
   "id": "a8c27b87",
   "metadata": {},
   "outputs": [],
   "source": [
    "input_file_abbr = pd.read_csv(\"C:\\\\Users\\\\mansj\\\\OneDrive\\\\Desktop\\\\State_abbr.csv\")\n",
    "state_abbr = pd.merge(population_df, input_file_abbr, how = 'inner', left_on = 'State', right_on = 'State')\n",
    "state_abbr = state_abbr[['State','Total','Year','Code']]\n",
    "state_abbr.to_csv(\"state_pop.csv\")"
   ]
  },
  {
   "cell_type": "code",
   "execution_count": null,
   "id": "55c4c3c4",
   "metadata": {},
   "outputs": [],
   "source": []
  }
 ],
 "metadata": {
  "kernelspec": {
   "display_name": "Python 3",
   "language": "python",
   "name": "python3"
  },
  "language_info": {
   "codemirror_mode": {
    "name": "ipython",
    "version": 3
   },
   "file_extension": ".py",
   "mimetype": "text/x-python",
   "name": "python",
   "nbconvert_exporter": "python",
   "pygments_lexer": "ipython3",
   "version": "3.8.8"
  }
 },
 "nbformat": 4,
 "nbformat_minor": 5
}
