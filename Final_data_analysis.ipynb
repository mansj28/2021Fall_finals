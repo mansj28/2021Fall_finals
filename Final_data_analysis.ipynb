{
 "cells": [
  {
   "cell_type": "markdown",
   "id": "b6256a5d",
   "metadata": {},
   "source": [
    "### This notebook is for Data Analysis"
   ]
  },
  {
   "cell_type": "markdown",
   "id": "cd1e33ad",
   "metadata": {},
   "source": [
    "Import Required Packages"
   ]
  },
  {
   "cell_type": "code",
   "execution_count": 1,
   "id": "06be7e52",
   "metadata": {},
   "outputs": [],
   "source": [
    "import pandas as pd\n",
    "import numpy as np\n",
    "import seaborn as sns\n",
    "import matplotlib.pyplot as plt"
   ]
  },
  {
   "cell_type": "markdown",
   "id": "ff8d2678",
   "metadata": {},
   "source": [
    "Import final DF created after all data pre processing and cleaning"
   ]
  },
  {
   "cell_type": "code",
   "execution_count": 2,
   "id": "a68d2f31",
   "metadata": {},
   "outputs": [
    {
     "data": {
      "text/html": [
       "<div>\n",
       "<style scoped>\n",
       "    .dataframe tbody tr th:only-of-type {\n",
       "        vertical-align: middle;\n",
       "    }\n",
       "\n",
       "    .dataframe tbody tr th {\n",
       "        vertical-align: top;\n",
       "    }\n",
       "\n",
       "    .dataframe thead th {\n",
       "        text-align: right;\n",
       "    }\n",
       "</style>\n",
       "<table border=\"1\" class=\"dataframe\">\n",
       "  <thead>\n",
       "    <tr style=\"text-align: right;\">\n",
       "      <th></th>\n",
       "      <th>State</th>\n",
       "      <th>Total</th>\n",
       "      <th>Year</th>\n",
       "      <th>Code</th>\n",
       "    </tr>\n",
       "  </thead>\n",
       "  <tbody>\n",
       "    <tr>\n",
       "      <th>0</th>\n",
       "      <td>Alabama</td>\n",
       "      <td>4526900.0</td>\n",
       "      <td>2008</td>\n",
       "      <td>AL</td>\n",
       "    </tr>\n",
       "    <tr>\n",
       "      <th>1</th>\n",
       "      <td>Alabama</td>\n",
       "      <td>4569100.0</td>\n",
       "      <td>2009</td>\n",
       "      <td>AL</td>\n",
       "    </tr>\n",
       "    <tr>\n",
       "      <th>2</th>\n",
       "      <td>Alabama</td>\n",
       "      <td>4651400.0</td>\n",
       "      <td>2010</td>\n",
       "      <td>AL</td>\n",
       "    </tr>\n",
       "    <tr>\n",
       "      <th>3</th>\n",
       "      <td>Alabama</td>\n",
       "      <td>4676000.0</td>\n",
       "      <td>2011</td>\n",
       "      <td>AL</td>\n",
       "    </tr>\n",
       "    <tr>\n",
       "      <th>4</th>\n",
       "      <td>Alabama</td>\n",
       "      <td>4696000.0</td>\n",
       "      <td>2012</td>\n",
       "      <td>AL</td>\n",
       "    </tr>\n",
       "  </tbody>\n",
       "</table>\n",
       "</div>"
      ],
      "text/plain": [
       "     State      Total  Year Code\n",
       "0  Alabama  4526900.0  2008   AL\n",
       "1  Alabama  4569100.0  2009   AL\n",
       "2  Alabama  4651400.0  2010   AL\n",
       "3  Alabama  4676000.0  2011   AL\n",
       "4  Alabama  4696000.0  2012   AL"
      ]
     },
     "execution_count": 2,
     "metadata": {},
     "output_type": "execute_result"
    }
   ],
   "source": [
    "final_df_inp = pd.read_csv(\"final_crimes.csv\")\n",
    "state_abbr = pd.read_csv(\"state_pop.csv\", index_col= 0)\n",
    "state_abbr.head()"
   ]
  },
  {
   "cell_type": "code",
   "execution_count": 9,
   "id": "4796ca4c",
   "metadata": {},
   "outputs": [
    {
     "data": {
      "text/html": [
       "<div>\n",
       "<style scoped>\n",
       "    .dataframe tbody tr th:only-of-type {\n",
       "        vertical-align: middle;\n",
       "    }\n",
       "\n",
       "    .dataframe tbody tr th {\n",
       "        vertical-align: top;\n",
       "    }\n",
       "\n",
       "    .dataframe thead th {\n",
       "        text-align: right;\n",
       "    }\n",
       "</style>\n",
       "<table border=\"1\" class=\"dataframe\">\n",
       "  <thead>\n",
       "    <tr style=\"text-align: right;\">\n",
       "      <th></th>\n",
       "      <th>state</th>\n",
       "      <th>state_abbr</th>\n",
       "      <th>year</th>\n",
       "      <th>crimes</th>\n",
       "      <th>total</th>\n",
       "    </tr>\n",
       "  </thead>\n",
       "  <tbody>\n",
       "    <tr>\n",
       "      <th>0</th>\n",
       "      <td>Alabama</td>\n",
       "      <td>AL</td>\n",
       "      <td>2008</td>\n",
       "      <td>5062</td>\n",
       "      <td>4526900</td>\n",
       "    </tr>\n",
       "    <tr>\n",
       "      <th>1</th>\n",
       "      <td>Alabama</td>\n",
       "      <td>AL</td>\n",
       "      <td>2009</td>\n",
       "      <td>4880</td>\n",
       "      <td>4569100</td>\n",
       "    </tr>\n",
       "    <tr>\n",
       "      <th>2</th>\n",
       "      <td>Alabama</td>\n",
       "      <td>AL</td>\n",
       "      <td>2010</td>\n",
       "      <td>4603</td>\n",
       "      <td>4651400</td>\n",
       "    </tr>\n",
       "    <tr>\n",
       "      <th>3</th>\n",
       "      <td>Alabama</td>\n",
       "      <td>AL</td>\n",
       "      <td>2011</td>\n",
       "      <td>4521</td>\n",
       "      <td>4676000</td>\n",
       "    </tr>\n",
       "    <tr>\n",
       "      <th>4</th>\n",
       "      <td>Alabama</td>\n",
       "      <td>AL</td>\n",
       "      <td>2012</td>\n",
       "      <td>4419</td>\n",
       "      <td>4696000</td>\n",
       "    </tr>\n",
       "  </tbody>\n",
       "</table>\n",
       "</div>"
      ],
      "text/plain": [
       "     state state_abbr  year  crimes    total\n",
       "0  Alabama         AL  2008    5062  4526900\n",
       "1  Alabama         AL  2009    4880  4569100\n",
       "2  Alabama         AL  2010    4603  4651400\n",
       "3  Alabama         AL  2011    4521  4676000\n",
       "4  Alabama         AL  2012    4419  4696000"
      ]
     },
     "execution_count": 9,
     "metadata": {},
     "output_type": "execute_result"
    }
   ],
   "source": [
    "final_data = pd.merge( final_df_inp, state_abbr, how = 'inner', left_on = ['state_abbr','year'], right_on = ['Code','Year'])\n",
    "final_data.head()\n",
    "final_data = final_data[['State','state_abbr','Year','crimes','Total']]\n",
    "final_data.columns= final_data.columns.str.lower()\n",
    "final_data['total'] = final_data['total'].astype(\"int64\")\n",
    "final_data.head()"
   ]
  },
  {
   "cell_type": "code",
   "execution_count": 72,
   "id": "c92ba441",
   "metadata": {},
   "outputs": [
    {
     "data": {
      "text/plain": [
       "28286200"
      ]
     },
     "execution_count": 72,
     "metadata": {},
     "output_type": "execute_result"
    }
   ],
   "source": [
    "final_data['total'].max()"
   ]
  },
  {
   "cell_type": "markdown",
   "id": "3a17b752",
   "metadata": {},
   "source": [
    "User input for state"
   ]
  },
  {
   "cell_type": "code",
   "execution_count": 5,
   "id": "be7365c4",
   "metadata": {},
   "outputs": [
    {
     "name": "stdout",
     "output_type": "stream",
     "text": [
      "Select a state to view crime ratesalabama\n"
     ]
    }
   ],
   "source": [
    "state_input = input(\"Select a state to view crime rates\")"
   ]
  },
  {
   "cell_type": "code",
   "execution_count": 79,
   "id": "9d2e89ab",
   "metadata": {},
   "outputs": [],
   "source": [
    "def plot_crime_vs_population(state_input):\n",
    "    refined_data = final_data[final_data['state'] == state_input.title()]\n",
    "    x = refined_data['year'].to_list()\n",
    "    print(x)\n",
    "    y = refined_data['total'].to_list()\n",
    "    crimes = refined_data['crimes'].to_list()\n",
    "    \n",
    "    fig = plt.figure(figsize = (10,6))\n",
    "    ax = sns.scatterplot( x = x, y = y, size = crimes, color = 'k')\n",
    "    ax.legend(loc='center left', bbox_to_anchor=(1, 0.85), ncol=1)\n",
    "    ax.set_xlabel(\"Years\")\n",
    "    ax.set_ylabel(\"Population\")\n",
    "#     ax.set_ylim(0, 28286200)\n",
    "#     g.ylim(0, 28286200)\n",
    "#     g.set_xticks(range(len(x)+1))\n",
    "#     g.set_xticklabels([2008, 2009, 2010, 2011, 2012, 2013, 2014, 2015, 2016, 2017, 2018, 2019])"
   ]
  },
  {
   "cell_type": "code",
   "execution_count": 80,
   "id": "4113dcfc",
   "metadata": {},
   "outputs": [
    {
     "name": "stdout",
     "output_type": "stream",
     "text": [
      "[2008, 2009, 2010, 2011, 2012, 2013, 2014, 2015, 2016, 2017, 2018, 2019]\n"
     ]
    },
    {
     "data": {
      "image/png": "[encoded data removed]",
      "text/plain": [
       "<Figure size 720x432 with 1 Axes>"
      ]
     },
     "metadata": {
      "needs_background": "light"
     },
     "output_type": "display_data"
    }
   ],
   "source": [
    "plot_crime_vs_population(state_input)"
   ]
  },
  {
   "cell_type": "code",
   "execution_count": null,
   "id": "aa172ab6",
   "metadata": {},
   "outputs": [],
   "source": []
  }
 ],
 "metadata": {
  "kernelspec": {
   "display_name": "Python 3",
   "language": "python",
   "name": "python3"
  },
  "language_info": {
   "codemirror_mode": {
    "name": "ipython",
    "version": 3
   },
   "file_extension": ".py",
   "mimetype": "text/x-python",
   "name": "python",
   "nbconvert_exporter": "python",
   "pygments_lexer": "ipython3",
   "version": "3.8.8"
  }
 },
 "nbformat": 4,
 "nbformat_minor": 5
}
